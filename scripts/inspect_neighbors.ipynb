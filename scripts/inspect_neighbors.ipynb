{
 "cells": [
  {
   "cell_type": "code",
   "execution_count": 1,
   "id": "aad3c0d6-20fe-4461-87c2-10d259626f95",
   "metadata": {},
   "outputs": [],
   "source": [
    "from pathlib import Path\n",
    "\n",
    "import tabulate\n",
    "import torch.nn.functional as F\n",
    "import torch"
   ]
  },
  {
   "cell_type": "code",
   "execution_count": 2,
   "id": "430aebb2-6976-4e67-a105-3ad28623360a",
   "metadata": {},
   "outputs": [],
   "source": [
    "dataset_name = 'wikipedia_20220101'"
   ]
  },
  {
   "cell_type": "code",
   "execution_count": 3,
   "id": "fd9d36ae-11c8-4215-9dc3-82c79124571d",
   "metadata": {},
   "outputs": [],
   "source": [
    "model_dict = torch.load('../data/models/wikipedia_20220101/20230117_1M_half_epoch.pth')"
   ]
  },
  {
   "cell_type": "code",
   "execution_count": 4,
   "id": "5a0e0690-1868-4eef-a760-0007dc3f9983",
   "metadata": {},
   "outputs": [
    {
     "data": {
      "text/plain": [
       "OrderedDict([('w_embeddings.weight',\n",
       "              tensor([[ 0.8157, -0.0253,  0.0314,  ..., -0.0088,  0.0067, -0.0545],\n",
       "                      [ 1.1868, -0.0469, -0.0204,  ..., -0.1442,  0.1593, -0.3008],\n",
       "                      [ 0.5395, -0.0428, -0.1247,  ..., -0.0987, -0.1637, -0.0772],\n",
       "                      ...,\n",
       "                      [-0.1531,  0.3876,  0.2110,  ..., -1.5737,  0.0395, -0.4951],\n",
       "                      [ 1.0544,  0.0212, -0.0971,  ..., -1.3920,  0.8410, -0.2747],\n",
       "                      [ 0.1835, -0.5065,  0.1714,  ...,  0.3168,  0.2803,  0.1444]])),\n",
       "             ('c_embeddings.weight',\n",
       "              tensor([[-0.6713, -0.4170, -0.2485,  ...,  0.2466,  0.1604,  0.1674],\n",
       "                      [-0.2657, -0.2486,  0.1616,  ..., -0.1634,  0.1333,  0.0580],\n",
       "                      [-0.2388,  0.1429, -0.0976,  ...,  0.3170, -0.1464, -0.0903],\n",
       "                      ...,\n",
       "                      [-0.8478,  0.4977,  0.2796,  ...,  1.7972, -0.2456,  0.7156],\n",
       "                      [-0.9782, -0.3228,  0.8054,  ...,  0.2088, -0.2167,  0.6095],\n",
       "                      [-0.4819, -0.2064,  0.2578,  ...,  0.7260, -0.5552,  1.1200]]))])"
      ]
     },
     "execution_count": 4,
     "metadata": {},
     "output_type": "execute_result"
    }
   ],
   "source": [
    "model_dict"
   ]
  },
  {
   "cell_type": "code",
   "execution_count": 5,
   "id": "d1133b67-4c0d-4138-a4c4-2239be96987c",
   "metadata": {},
   "outputs": [],
   "source": [
    "data_path = Path('../').resolve().joinpath('data')"
   ]
  },
  {
   "cell_type": "code",
   "execution_count": 6,
   "id": "beb2a3b0-7c51-4853-87aa-cff278fa11c2",
   "metadata": {},
   "outputs": [],
   "source": [
    "wvocab = {}\n",
    "with open(data_path.joinpath('vocab', dataset_name, 'wvocab.txt')) as infile:\n",
    "    for i, line in enumerate(infile.readlines()):\n",
    "        wvocab[line.strip()] = i\n",
    "\n",
    "i2w = list(wvocab.keys())"
   ]
  },
  {
   "cell_type": "code",
   "execution_count": 7,
   "id": "65b28509-ff53-44a7-b215-acd25332025d",
   "metadata": {},
   "outputs": [],
   "source": [
    "def top_w_sims(model_dict, word, k=5):\n",
    "    topk_sims = F.cosine_similarity(\n",
    "        model_dict['w_embeddings.weight'][wvocab[word]],\n",
    "        model_dict['w_embeddings.weight']\n",
    "    ).topk(k)\n",
    "\n",
    "    for wi, sim in zip(topk_sims.indices.data.tolist(), topk_sims.values.data.tolist()):\n",
    "        yield i2w[wi], sim"
   ]
  },
  {
   "cell_type": "code",
   "execution_count": 9,
   "id": "400b1794-f89e-41c7-bd98-006afd7bfb3e",
   "metadata": {},
   "outputs": [
    {
     "data": {
      "text/plain": [
       "[('move-to', 1.0),\n",
       " ('move-from', 0.8199008703231812),\n",
       " ('relocate-to', 0.8038907051086426),\n",
       " ('transfer-to', 0.772900402545929),\n",
       " ('move-into', 0.765338122844696),\n",
       " ('send-to', 0.7322393655776978),\n",
       " ('return-to', 0.7277364730834961),\n",
       " ('work-in', 0.7264373898506165),\n",
       " ('relocate-from', 0.7230533361434937),\n",
       " ('migrate-to', 0.7226387858390808)]"
      ]
     },
     "execution_count": 9,
     "metadata": {},
     "output_type": "execute_result"
    }
   ],
   "source": [
    "list(top_w_sims(model_dict, 'move-to', 10))"
   ]
  },
  {
   "cell_type": "code",
   "execution_count": 10,
   "id": "bcf36b94-74da-4164-8eae-e6a06c2c604c",
   "metadata": {},
   "outputs": [
    {
     "data": {
      "text/plain": [
       "[('be_president_of', 0.9999999403953552),\n",
       " ('be_chairman_of', 0.8024470806121826),\n",
       " ('be_chair_of', 0.764552891254425),\n",
       " ('be_manager_of', 0.7625577449798584),\n",
       " ('be_founder_of', 0.7623101472854614),\n",
       " ('be_director_of', 0.7604293823242188),\n",
       " ('be_ceo_of', 0.7582588791847229),\n",
       " ('be_member_of', 0.7575125694274902),\n",
       " ('appos_chairman_of', 0.7554025650024414),\n",
       " ('work-at', 0.7434799075126648)]"
      ]
     },
     "execution_count": 10,
     "metadata": {},
     "output_type": "execute_result"
    }
   ],
   "source": [
    "list(top_w_sims(model_dict, 'be_president_of', 10))"
   ]
  }
 ],
 "metadata": {
  "kernelspec": {
   "display_name": "pathvecs-kernel",
   "language": "python",
   "name": "pathvecs-kernel"
  },
  "language_info": {
   "codemirror_mode": {
    "name": "ipython",
    "version": 3
   },
   "file_extension": ".py",
   "mimetype": "text/x-python",
   "name": "python",
   "nbconvert_exporter": "python",
   "pygments_lexer": "ipython3",
   "version": "3.10.8"
  }
 },
 "nbformat": 4,
 "nbformat_minor": 5
}
