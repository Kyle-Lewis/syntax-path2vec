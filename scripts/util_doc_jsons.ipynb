{
 "cells": [
  {
   "cell_type": "code",
   "execution_count": null,
   "id": "fc4f2a9a-9cd1-4c49-9c53-223bc545322a",
   "metadata": {},
   "outputs": [],
   "source": [
    "from spacy import displacy\n",
    "import en_core_web_lg\n",
    "\n",
    "from pathvecs.matchers import TripleMatcher"
   ]
  },
  {
   "cell_type": "code",
   "execution_count": null,
   "id": "ea9c8257-721e-418b-9334-2c4d9ebc67b2",
   "metadata": {},
   "outputs": [],
   "source": [
    "nlp = en_core_web_lg.load()"
   ]
  },
  {
   "cell_type": "code",
   "execution_count": null,
   "id": "7ef0a98a-b03c-474f-af4e-778a4cdf5158",
   "metadata": {},
   "outputs": [],
   "source": [
    "triple_matcher = nlp.add_pipe('triple_matcher')# , config={'use_patterns': ['being_verb']})"
   ]
  },
  {
   "cell_type": "code",
   "execution_count": null,
   "id": "fea4c14c-38bf-4f29-ad93-85dc80d1a73b",
   "metadata": {},
   "outputs": [],
   "source": [
    "text = \"Alice, who was one of the founders of the company.\"\n",
    "\n",
    "doc = nlp(text)\n",
    "displacy.render(doc, options={'collapse_punct':True})\n",
    "\n",
    "print('({')\n",
    "print('\\t\\'words\\':', str([t.text for t in doc])+',')\n",
    "print('\\t\\'lemmas\\':', str([t.lemma_ for t in doc])+',')\n",
    "print('\\t\\'pos\\':', str([t.pos_ for t in doc])+',')\n",
    "print('\\t\\'tags\\':', str([t.tag_ for t in doc])+',')\n",
    "print('\\t\\'deps\\':', str([t.dep_ for t in doc])+',')\n",
    "print('\\t\\'heads\\':', str([t.head.i for t in doc])+',')\n",
    "print('\\t\\'spaces\\':', str([t.whitespace_ for t in doc])+',')\n",
    "print('})')\n",
    "\n",
    "if doc.has_extension('triples'):\n",
    "    for t in doc._.triples:\n",
    "        print(t)"
   ]
  }
 ],
 "metadata": {
  "kernelspec": {
   "display_name": "Python (path2vec)",
   "language": "python",
   "name": "path2vec"
  },
  "language_info": {
   "codemirror_mode": {
    "name": "ipython",
    "version": 3
   },
   "file_extension": ".py",
   "mimetype": "text/x-python",
   "name": "python",
   "nbconvert_exporter": "python",
   "pygments_lexer": "ipython3",
   "version": "3.8.10"
  }
 },
 "nbformat": 4,
 "nbformat_minor": 5
}
